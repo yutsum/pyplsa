{
 "nbformat": 4,
 "nbformat_minor": 2,
 "metadata": {
  "language_info": {
   "name": "python",
   "codemirror_mode": {
    "name": "ipython",
    "version": 3
   },
   "version": "3.6.8-final"
  },
  "orig_nbformat": 2,
  "file_extension": ".py",
  "mimetype": "text/x-python",
  "name": "python",
  "npconvert_exporter": "python",
  "pygments_lexer": "ipython3",
  "version": 3,
  "kernelspec": {
   "name": "python36864bitdrlndconda177bd31bbfaf4e4bb2cc98c8e398f0ee",
   "display_name": "Python 3.6.8 64-bit ('drlnd': conda)"
  }
 },
 "cells": [
  {
   "cell_type": "code",
   "execution_count": 2,
   "metadata": {},
   "outputs": [],
   "source": [
    "import torch"
   ]
  },
  {
   "cell_type": "code",
   "execution_count": 10,
   "metadata": {},
   "outputs": [],
   "source": [
    "x1 = torch.tensor([[1.0, 2.0], [3.0, 4.0]])\n",
    "x2 = torch.tensor([[10.0, 100], [1000, 10000]])\n",
    "\n",
    "x21 = torch.stack((x1, 2*x1))\n",
    "x22 = torch.stack((x2, -1*x2))"
   ]
  },
  {
   "cell_type": "code",
   "execution_count": 11,
   "metadata": {},
   "outputs": [
    {
     "data": {
      "text/plain": "tensor([[[  2010.,  20100.],\n         [  4030.,  40300.]],\n\n        [[ -4020., -40200.],\n         [ -8060., -80600.]]])"
     },
     "execution_count": 11,
     "metadata": {},
     "output_type": "execute_result"
    }
   ],
   "source": [
    "torch.bmm(x21, x22)"
   ]
  },
  {
   "cell_type": "code",
   "execution_count": 15,
   "metadata": {},
   "outputs": [
    {
     "data": {
      "text/plain": "tensor([[[ 1.0000e+01,  2.0000e+02],\n         [ 3.0000e+03,  4.0000e+04]],\n\n        [[-2.0000e+01, -4.0000e+02],\n         [-6.0000e+03, -8.0000e+04]]])"
     },
     "execution_count": 15,
     "metadata": {},
     "output_type": "execute_result"
    }
   ],
   "source": [
    "torch.mul(x21, x22)"
   ]
  },
  {
   "cell_type": "code",
   "execution_count": 22,
   "metadata": {},
   "outputs": [
    {
     "data": {
      "text/plain": "tensor([[[ 1.0000e+01,  2.0000e+02],\n         [ 3.0000e+03,  4.0000e+04]],\n\n        [[-6.0000e+01, -1.2000e+03],\n         [-1.8000e+04, -2.4000e+05]]])"
     },
     "execution_count": 22,
     "metadata": {},
     "output_type": "execute_result"
    }
   ],
   "source": [
    "pzxs = torch.tensor([1.0, 3.0]).unsqueeze(1).unsqueeze(2) * torch.mul(x21, x22)\n",
    "pzxs"
   ]
  },
  {
   "cell_type": "code",
   "execution_count": 25,
   "metadata": {},
   "outputs": [
    {
     "data": {
      "text/plain": "tensor([[-5.0000e+01, -1.0000e+03],\n        [-1.5000e+04, -2.0000e+05]])"
     },
     "execution_count": 25,
     "metadata": {},
     "output_type": "execute_result"
    }
   ],
   "source": [
    "pz_given_xs_sum = torch.sum(pzxs, 0)\n",
    "pz_given_xs_sum"
   ]
  },
  {
   "cell_type": "code",
   "execution_count": 26,
   "metadata": {},
   "outputs": [
    {
     "data": {
      "text/plain": "tensor([[-2.0000e-02, -1.0000e-03],\n        [-6.6667e-05, -5.0000e-06]])"
     },
     "execution_count": 26,
     "metadata": {},
     "output_type": "execute_result"
    }
   ],
   "source": [
    "1/pz_given_xs_sum"
   ]
  },
  {
   "cell_type": "code",
   "execution_count": 36,
   "metadata": {},
   "outputs": [
    {
     "data": {
      "text/plain": "tensor([1., 1.])"
     },
     "execution_count": 36,
     "metadata": {},
     "output_type": "execute_result"
    }
   ],
   "source": [
    "t01 = torch.tensor([0., 1])\n",
    "t01[t01.eq(0)] = 1\n",
    "t01"
   ]
  },
  {
   "cell_type": "code",
   "execution_count": 39,
   "metadata": {},
   "outputs": [
    {
     "data": {
      "text/plain": "tensor([[[ 1.0000e+01,  0.0000e+00],\n         [ 0.0000e+00,  4.0000e+04]],\n\n        [[-6.0000e+01, -0.0000e+00],\n         [-0.0000e+00, -2.4000e+05]]])"
     },
     "execution_count": 39,
     "metadata": {},
     "output_type": "execute_result"
    }
   ],
   "source": [
    "pzxs * torch.tensor([[1., 0],[0., 1]])"
   ]
  },
  {
   "cell_type": "code",
   "execution_count": 40,
   "metadata": {},
   "outputs": [
    {
     "data": {
      "text/plain": "tensor([1., 1., 1., 1., 1., 1., 1., 1., 1., 1.])"
     },
     "execution_count": 40,
     "metadata": {},
     "output_type": "execute_result"
    }
   ],
   "source": [
    "torch.ones(10)"
   ]
  },
  {
   "cell_type": "code",
   "execution_count": 48,
   "metadata": {},
   "outputs": [],
   "source": [
    "import importlib"
   ]
  },
  {
   "cell_type": "code",
   "execution_count": 55,
   "metadata": {},
   "outputs": [
    {
     "data": {
      "text/plain": "<module 'plsa' from 'd:\\\\data\\\\gitrepo\\\\plsa\\\\plsa.py'>"
     },
     "execution_count": 55,
     "metadata": {},
     "output_type": "execute_result"
    }
   ],
   "source": [
    "import plsa\n"
   ]
  },
  {
   "cell_type": "code",
   "execution_count": 250,
   "metadata": {},
   "outputs": [],
   "source": [
    "importlib.reload(plsa)\n",
    "p = plsa.PLSA([[1,2, 3],[3,4, 5]], 4)"
   ]
  },
  {
   "cell_type": "code",
   "execution_count": 146,
   "metadata": {},
   "outputs": [
    {
     "name": "stdout",
     "output_type": "stream",
     "text": "tensor([[1., 2., 3.],\n        [3., 4., 5.]])\n[tensor([[0.2500, 0.2500],\n        [0.2500, 0.2500],\n        [0.2500, 0.2500],\n        [0.2500, 0.2500]]), tensor([[0.2500, 0.2500, 0.2500],\n        [0.2500, 0.2500, 0.2500],\n        [0.2500, 0.2500, 0.2500],\n        [0.2500, 0.2500, 0.2500]])]\ntensor([[0, 1]])\n"
    }
   ],
   "source": [
    "print(p.data)\n",
    "print(p.init_pxi_given_zs)\n",
    "print(plsa.unsqueeze_ot(torch.tensor([0, 1]), 1, 2))"
   ]
  },
  {
   "cell_type": "code",
   "execution_count": 122,
   "metadata": {},
   "outputs": [],
   "source": [
    "import functools"
   ]
  },
  {
   "cell_type": "code",
   "execution_count": 153,
   "metadata": {},
   "outputs": [
    {
     "name": "stdout",
     "output_type": "stream",
     "text": "[tensor([[[0.2500],\n         [0.2500]],\n\n        [[0.2500],\n         [0.2500]],\n\n        [[0.2500],\n         [0.2500]],\n\n        [[0.2500],\n         [0.2500]]]), tensor([[[0.2500, 0.2500, 0.2500]],\n\n        [[0.2500, 0.2500, 0.2500]],\n\n        [[0.2500, 0.2500, 0.2500]],\n\n        [[0.2500, 0.2500, 0.2500]]])]\n[torch.Size([4, 1, 1]), torch.Size([4, 2, 1]), torch.Size([4, 1, 3])]\n"
    },
    {
     "data": {
      "text/plain": "torch.Size([4, 2, 3])"
     },
     "execution_count": 153,
     "metadata": {},
     "output_type": "execute_result"
    }
   ],
   "source": [
    "t01 = [plsa.unsqueeze_ot(p.pxi_given_zs[i], [0,i+1], 3) for i in range(len(p.pxi_given_zs))]\n",
    "print(t01)\n",
    "t02 = [plsa.unsqueeze_ot(torch.ones(4), [0], 3)]+ t01\n",
    "print([m.size() for m in t02])\n",
    "functools.reduce(torch.mul, t02[1:], t02[0]).size()"
   ]
  },
  {
   "cell_type": "code",
   "execution_count": 157,
   "metadata": {},
   "outputs": [],
   "source": [
    "t01 = [0, 1, 2].remove(1)"
   ]
  },
  {
   "cell_type": "code",
   "execution_count": 104,
   "metadata": {},
   "outputs": [
    {
     "data": {
      "text/plain": "tensor([1, 2])"
     },
     "execution_count": 104,
     "metadata": {},
     "output_type": "execute_result"
    }
   ],
   "source": [
    "t01 = torch.tensor([1, 2])\n",
    "t02 = t01.clone()\n",
    "plsa.unsqueeze_ot(t01, 1, 2)\n",
    "t02"
   ]
  },
  {
   "cell_type": "code",
   "execution_count": 70,
   "metadata": {},
   "outputs": [
    {
     "data": {
      "text/plain": "(1, 3, 4, 5)"
     },
     "execution_count": 70,
     "metadata": {},
     "output_type": "execute_result"
    }
   ],
   "source": [
    "def randtest():\n",
    "    ds = (3,4,5)\n",
    "    return torch.rand(*ds)\n",
    "\n",
    "randtest()\n",
    "randtest().size()\n",
    "(1,)+(*(randtest().size()),)"
   ]
  },
  {
   "cell_type": "code",
   "execution_count": 77,
   "metadata": {},
   "outputs": [
    {
     "data": {
      "text/plain": "tensor(10.)"
     },
     "execution_count": 77,
     "metadata": {},
     "output_type": "execute_result"
    }
   ],
   "source": [
    "torch.sum(p.data, dim=())"
   ]
  },
  {
   "cell_type": "code",
   "execution_count": 86,
   "metadata": {},
   "outputs": [
    {
     "data": {
      "text/plain": "tensor([[0.3333, 0.6667],\n        [0.4286, 0.5714]])"
     },
     "execution_count": 86,
     "metadata": {},
     "output_type": "execute_result"
    }
   ],
   "source": [
    "p.data / torch.sum(p.data, dim=1, keepdim=True)"
   ]
  },
  {
   "cell_type": "code",
   "execution_count": 89,
   "metadata": {},
   "outputs": [
    {
     "data": {
      "text/plain": "tensor([[[1.],\n         [2.]],\n\n        [[3.],\n         [4.]]])"
     },
     "execution_count": 89,
     "metadata": {},
     "output_type": "execute_result"
    }
   ],
   "source": [
    "p.data.unsqueeze(p.data.dim())"
   ]
  },
  {
   "cell_type": "code",
   "execution_count": 92,
   "metadata": {},
   "outputs": [
    {
     "data": {
      "text/plain": "tensor([[1, 2]])"
     },
     "execution_count": 92,
     "metadata": {},
     "output_type": "execute_result"
    }
   ],
   "source": [
    "torch.tensor([1,2]).unsqueeze_(0)"
   ]
  },
  {
   "cell_type": "code",
   "execution_count": 251,
   "metadata": {},
   "outputs": [],
   "source": [
    "p1 = plsa.PLSA(torch.tensor([[3, 0, 0], [1, 0, 0], [0, 1, 1]]), 2)"
   ]
  },
  {
   "cell_type": "code",
   "execution_count": 252,
   "metadata": {},
   "outputs": [
    {
     "data": {
      "text/plain": "tensor([0.5000, 0.5000])"
     },
     "execution_count": 252,
     "metadata": {},
     "output_type": "execute_result"
    }
   ],
   "source": [
    "p1.pz"
   ]
  },
  {
   "cell_type": "code",
   "execution_count": 253,
   "metadata": {},
   "outputs": [],
   "source": [
    "p1.em_algorithm(10)"
   ]
  },
  {
   "cell_type": "code",
   "execution_count": 254,
   "metadata": {},
   "outputs": [
    {
     "data": {
      "text/plain": "tensor([[[1., 0., 0.],\n         [1., 0., 0.],\n         [0., 0., 0.]],\n\n        [[0., 0., 0.],\n         [0., 0., 0.],\n         [0., 1., 1.]]])"
     },
     "execution_count": 254,
     "metadata": {},
     "output_type": "execute_result"
    }
   ],
   "source": [
    "p1.pz_given_xs"
   ]
  },
  {
   "cell_type": "code",
   "execution_count": 255,
   "metadata": {},
   "outputs": [
    {
     "data": {
      "text/plain": "[tensor([[0.7500, 0.2500, 0.0000],\n         [0.0000, 0.0000, 1.0000]]), tensor([[1.0000, 0.0000, 0.0000],\n         [0.0000, 0.5000, 0.5000]])]"
     },
     "execution_count": 255,
     "metadata": {},
     "output_type": "execute_result"
    }
   ],
   "source": [
    "p1.pxi_given_zs"
   ]
  },
  {
   "cell_type": "code",
   "execution_count": null,
   "metadata": {},
   "outputs": [],
   "source": [
    "\n",
    "\n",
    "\n",
    "[-]\n",
    "\n",
    "\n",
    "\n"
   ]
  },
  {
   "cell_type": "code",
   "execution_count": 249,
   "metadata": {},
   "outputs": [
    {
     "data": {
      "text/plain": "[tensor([[ 75.,  25.,   0.],\n         [  0.,   0., 100.]]), tensor([[100.,   0.,   0.],\n         [  0.,  50.,  50.]])]"
     },
     "execution_count": 249,
     "metadata": {},
     "output_type": "execute_result"
    }
   ],
   "source": [
    "[(100*m).round() for m in p1.pxi_given_zs]"
   ]
  },
  {
   "cell_type": "code",
   "execution_count": 236,
   "metadata": {},
   "outputs": [
    {
     "data": {
      "text/plain": "tensor([0.3851, 0.6149])"
     },
     "execution_count": 236,
     "metadata": {},
     "output_type": "execute_result"
    }
   ],
   "source": [
    "p1.pz"
   ]
  },
  {
   "cell_type": "code",
   "execution_count": 190,
   "metadata": {},
   "outputs": [
    {
     "data": {
      "text/plain": "tensor([[0.3061, 0.0612, 0.0612],\n        [0.1020, 0.0204, 0.0204],\n        [0.3061, 0.0612, 0.0612]])"
     },
     "execution_count": 190,
     "metadata": {},
     "output_type": "execute_result"
    }
   ],
   "source": [
    "p1.pxi_given_zs[0][0].ger(p1.pxi_given_zs[1][0])"
   ]
  },
  {
   "cell_type": "code",
   "execution_count": 197,
   "metadata": {},
   "outputs": [
    {
     "data": {
      "text/plain": "tensor([[0.3061, 0.0612, 0.0612],\n        [0.1020, 0.0204, 0.0204],\n        [0.3061, 0.0612, 0.0612]])"
     },
     "execution_count": 197,
     "metadata": {},
     "output_type": "execute_result"
    }
   ],
   "source": [
    "p1.pxi_given_zs[0][1].ger(p1.pxi_given_zs[1][1])"
   ]
  },
  {
   "cell_type": "code",
   "execution_count": 209,
   "metadata": {},
   "outputs": [
    {
     "data": {
      "text/plain": "tensor([[[1.0000, 0.0000, 0.0000],\n         [0.3333, 0.0000, 0.0000],\n         [0.3333, 0.3333, 0.3333]],\n\n        [[2.0000, 0.0000, 0.0000],\n         [0.6667, 0.0000, 0.0000],\n         [0.6667, 0.6667, 0.6667]]])"
     },
     "execution_count": 209,
     "metadata": {},
     "output_type": "execute_result"
    }
   ],
   "source": [
    "p1.tmp"
   ]
  },
  {
   "cell_type": "code",
   "execution_count": 202,
   "metadata": {},
   "outputs": [
    {
     "data": {
      "text/plain": "tensor([[[0.3061, 0.0612, 0.0612],\n         [0.1020, 0.0204, 0.0204],\n         [0.3061, 0.0612, 0.0612]],\n\n        [[0.3061, 0.0612, 0.0612],\n         [0.1020, 0.0204, 0.0204],\n         [0.3061, 0.0612, 0.0612]]])"
     },
     "execution_count": 202,
     "metadata": {},
     "output_type": "execute_result"
    }
   ],
   "source": [
    "plsa.normalize(p1.pzxs, [1,2])"
   ]
  },
  {
   "cell_type": "code",
   "execution_count": 173,
   "metadata": {},
   "outputs": [
    {
     "data": {
      "text/plain": "tensor([[[1.0000, 0.0000, 0.0000],\n         [1.0000, 0.0000, 0.0000],\n         [0.3333, 0.3333, 0.3333]],\n\n        [[1.0000, 0.0000, 0.0000],\n         [1.0000, 0.0000, 0.0000],\n         [0.3333, 0.3333, 0.3333]]])"
     },
     "execution_count": 173,
     "metadata": {},
     "output_type": "execute_result"
    }
   ],
   "source": [
    "plsa.normalize(p1.tmp, [2])"
   ]
  },
  {
   "cell_type": "code",
   "execution_count": null,
   "metadata": {},
   "outputs": [],
   "source": []
  }
 ]
}